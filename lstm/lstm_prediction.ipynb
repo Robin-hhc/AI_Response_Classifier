{
 "cells": [
  {
   "cell_type": "markdown",
   "metadata": {},
   "source": []
  },
  {
   "cell_type": "code",
   "execution_count": 1,
   "metadata": {},
   "outputs": [
    {
     "name": "stdout",
     "output_type": "stream",
     "text": [
      "cuda\n"
     ]
    }
   ],
   "source": [
    "import os\n",
    "import torch\n",
    "import pickle\n",
    "import json\n",
    "import torch.nn as nn\n",
    "\n",
    "device = torch.device(\"cuda\" if torch.cuda.is_available() else \"cpu\")\n",
    "print(device)"
   ]
  },
  {
   "cell_type": "code",
   "execution_count": 2,
   "metadata": {},
   "outputs": [],
   "source": [
    "# ========================================================\n",
    "# =============== | FILE VERIFICATION | ==================\n",
    "# ========================================================\n",
    "\n",
    "models_meta = \"model\"\n",
    "files_req = {\n",
    "    \"vocab\": os.path.join(models_meta, \"vocab.json\"),\n",
    "    \"model\": os.path.join(models_meta, \"lstm_model.pkl\")\n",
    "}\n",
    "\n",
    "for file_p in files_req.values():\n",
    "    if not os.path.exists(file_p):\n",
    "        print(f\"WARNING: Cannot locate required file '{file_p}'\")\n",
    "    "
   ]
  },
  {
   "cell_type": "code",
   "execution_count": 3,
   "metadata": {},
   "outputs": [
    {
     "name": "stdout",
     "output_type": "stream",
     "text": [
      "LSTM model loaded.\n",
      "Vocab loaded.\n"
     ]
    }
   ],
   "source": [
    "# ======================================================\n",
    "# ============= | LOAD MODEL/TOKENIZER | ===============\n",
    "# ======================================================\n",
    "\n",
    "class LSTMClassifier(nn.Module):\n",
    "    def __init__(self, vocab_size, embedding_dim, hidden_dim, output_dim, n_layers, dropout=0.5):\n",
    "        super(LSTMClassifier, self).__init__()\n",
    "        self.embedding = nn.Embedding(vocab_size, embedding_dim)\n",
    "        self.lstm = nn.LSTM(embedding_dim, hidden_dim, n_layers, batch_first=True, dropout=dropout)\n",
    "        self.fc = nn.Linear(hidden_dim, output_dim)\n",
    "\n",
    "    def forward(self, x):\n",
    "        embedded = self.embedding(x)\n",
    "        lstm_out, _ = self.lstm(embedded)\n",
    "        output = self.fc(lstm_out[:, -1, :])                                                                                            \n",
    "        return output\n",
    "\n",
    "model = None\n",
    "vocab = None\n",
    "\n",
    "pickle_model_path = files_req['model']\n",
    "with open(pickle_model_path, 'rb') as rf:\n",
    "    model = pickle.load(rf) # LSTMClassifier\n",
    "    print(\"LSTM model loaded.\")\n",
    "    \n",
    "vocab_path = files_req['vocab']\n",
    "with open(vocab_path, 'r') as rf:\n",
    "    vocab = json.load(rf) \n",
    "    print(\"Vocab loaded.\")"
   ]
  },
  {
   "cell_type": "code",
   "execution_count": 4,
   "metadata": {},
   "outputs": [],
   "source": [
    "# ========================================================\n",
    "# ================ | PREPARE TEXT/MODEL | ================\n",
    "# ========================================================\n",
    "\n",
    "def preprocess_text(text, tokenizer, max_length):\n",
    "    tokens = tokenizer(text)\n",
    "    if len(tokens) < max_length:\n",
    "        tokens += [0] * (max_length - len(tokens))\n",
    "    else:\n",
    "        tokens = tokens[:max_length]\n",
    "    return torch.tensor([tokens], dtype=torch.long).to(device)\n",
    "\n",
    "def predict_text_line(model, text, tokenizer, max_length):\n",
    "    # Preprocess the input text\n",
    "    input_tensor = preprocess_text(text, tokenizer, max_length)\n",
    "\n",
    "    # Perform the prediction\n",
    "    with torch.no_grad():\n",
    "        output = model(input_tensor)\n",
    "        predicted_class = torch.argmax(output, dim=1).item()  # Get the class index\n",
    "\n",
    "    return predicted_class\n",
    "\n",
    "\n",
    "model.to(device)\n",
    "model.eval()\n",
    "tokenizer = lambda x: [vocab[word] for word in x.split() if word in vocab]\n",
    "max_length = 512"
   ]
  },
  {
   "cell_type": "code",
   "execution_count": 5,
   "metadata": {},
   "outputs": [
    {
     "name": "stdout",
     "output_type": "stream",
     "text": [
      "Predicted class for the input text: 1\n"
     ]
    }
   ],
   "source": [
    "# ================================================\n",
    "# ================ | PREDICTION | ================\n",
    "# ================================================\n",
    "\n",
    "text = \"Cars. Cars have been around since they became famous in the 1900s, when Henry Ford created and built the first ModelT. Cars have played a major role in our every day lives since then. But now, people are starting to question if limiting car usage would be a good thing. To me, limiting the use of cars might be a good thing to do.\"\n",
    "\n",
    "predicted_class = predict_text_line(model, text, tokenizer, max_length)\n",
    "print(f\"Predicted class for the input text: {predicted_class}\")"
   ]
  }
 ],
 "metadata": {
  "kernelspec": {
   "display_name": "venv",
   "language": "python",
   "name": "python3"
  },
  "language_info": {
   "codemirror_mode": {
    "name": "ipython",
    "version": 3
   },
   "file_extension": ".py",
   "mimetype": "text/x-python",
   "name": "python",
   "nbconvert_exporter": "python",
   "pygments_lexer": "ipython3",
   "version": "3.12.2"
  }
 },
 "nbformat": 4,
 "nbformat_minor": 2
}
